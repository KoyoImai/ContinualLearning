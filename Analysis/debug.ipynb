{
 "cells": [
  {
   "cell_type": "code",
   "execution_count": null,
   "id": "d5481731",
   "metadata": {},
   "outputs": [
    {
     "name": "stdout",
     "output_type": "stream",
     "text": [
      "((mean_k - mean) ** 2).shape:  (10,)\n"
     ]
    },
    {
     "ename": "AssertionError",
     "evalue": "",
     "output_type": "error",
     "traceback": [
      "\u001b[0;31m---------------------------------------------------------------------------\u001b[0m",
      "\u001b[0;31mAssertionError\u001b[0m                            Traceback (most recent call last)",
      "Cell \u001b[0;32mIn[6], line 27\u001b[0m\n\u001b[1;32m     25\u001b[0m \u001b[38;5;28mprint\u001b[39m(\u001b[38;5;124m\"\u001b[39m\u001b[38;5;124m((mean_k - mean) ** 2).shape: \u001b[39m\u001b[38;5;124m\"\u001b[39m, ((mean_k \u001b[38;5;241m-\u001b[39m mean) \u001b[38;5;241m*\u001b[39m\u001b[38;5;241m*\u001b[39m \u001b[38;5;241m2\u001b[39m)\u001b[38;5;241m.\u001b[39mshape)\n\u001b[1;32m     26\u001b[0m intra_disp \u001b[38;5;241m+\u001b[39m\u001b[38;5;241m=\u001b[39m np\u001b[38;5;241m.\u001b[39msum((cluster_k \u001b[38;5;241m-\u001b[39m mean_k) \u001b[38;5;241m*\u001b[39m\u001b[38;5;241m*\u001b[39m \u001b[38;5;241m2\u001b[39m)\n\u001b[0;32m---> 27\u001b[0m \u001b[38;5;28;01massert\u001b[39;00m \u001b[38;5;28;01mFalse\u001b[39;00m\n",
      "\u001b[0;31mAssertionError\u001b[0m: "
     ]
    }
   ],
   "source": [
    "import numpy as np\n",
    "\n",
    "X1 = np.random.normal(loc=0.0, scale=1.0, size=(5, 10))  # クラスタ1\n",
    "X2 = np.random.normal(loc=3.0, scale=1.0, size=(5, 10))  # クラスタ2\n",
    "X3 = np.random.normal(loc=6.0, scale=1.0, size=(5, 10))  # クラスタ3\n",
    "\n",
    "X = np.vstack([X1, X2, X3])  # [15, 10]\n",
    "labels = np.array([0]*5 + [1]*5 + [2]*5)  # ラベル\n",
    "# le = LabelEncoder()\n",
    "# labels = le.fit_transform(labels)\n",
    "\n",
    "n_samples, _ = X.shape\n",
    "n_labels = len(np.unique(labels))\n",
    "\n",
    "# check_number_of_labels(n_labels, n_samples)\n",
    "\n",
    "extra_disp, intra_disp = 0.0, 0.0\n",
    "mean = np.mean(X, axis=0)\n",
    "for k in range(n_labels):\n",
    "    cluster_k = X[labels == k]\n",
    "    # print(\"cluster_k.shape: \", cluster_k.shape)   # (5, 10)\n",
    "    mean_k = np.mean(cluster_k, axis=0)\n",
    "    # print(\"mean_k.shape: \", mean_k.shape)         # mean_k.shape:  (10,)\n",
    "    extra_disp += len(cluster_k) * np.sum((mean_k - mean) ** 2)\n",
    "    # print(\"((mean_k - mean) ** 2).shape: \", ((mean_k - mean) ** 2).shape)   # ((mean_k - mean) ** 2).shape:  (10,)\n",
    "    intra_disp += np.sum((cluster_k - mean_k) ** 2)\n",
    "\n"
   ]
  },
  {
   "cell_type": "code",
   "execution_count": 2,
   "id": "8006532f",
   "metadata": {},
   "outputs": [
    {
     "data": {
      "text/plain": [
       "857.9756656144789"
      ]
     },
     "execution_count": 2,
     "metadata": {},
     "output_type": "execute_result"
    }
   ],
   "source": [
    "extra_disp"
   ]
  },
  {
   "cell_type": "code",
   "execution_count": 4,
   "id": "5c77e97b",
   "metadata": {},
   "outputs": [
    {
     "data": {
      "text/plain": [
       "array([ 6.44501608,  8.36546926,  7.89850116, 10.74229889,  8.33087953,\n",
       "        8.63898808, 10.10076203, 11.95520758, 11.44342942,  6.05202934])"
      ]
     },
     "execution_count": 4,
     "metadata": {},
     "output_type": "execute_result"
    }
   ],
   "source": [
    "(mean_k - mean) ** 2"
   ]
  },
  {
   "cell_type": "code",
   "execution_count": null,
   "id": "84856c03",
   "metadata": {},
   "outputs": [],
   "source": []
  }
 ],
 "metadata": {
  "kernelspec": {
   "display_name": "base",
   "language": "python",
   "name": "python3"
  },
  "language_info": {
   "codemirror_mode": {
    "name": "ipython",
    "version": 3
   },
   "file_extension": ".py",
   "mimetype": "text/x-python",
   "name": "python",
   "nbconvert_exporter": "python",
   "pygments_lexer": "ipython3",
   "version": "3.8.5"
  }
 },
 "nbformat": 4,
 "nbformat_minor": 5
}
