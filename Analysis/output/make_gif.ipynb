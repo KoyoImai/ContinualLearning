{
 "cells": [
  {
   "cell_type": "code",
   "execution_count": 13,
   "id": "b8d61bcc",
   "metadata": {},
   "outputs": [
    {
     "name": "stdout",
     "output_type": "stream",
     "text": [
      "GIF saved to: /home/kouyou/ContinualLearning/survey/Analysis/output/task0_umap_animation.gif\n"
     ]
    }
   ],
   "source": [
    "import os\n",
    "from pdf2image import convert_from_path\n",
    "from PIL import Image\n",
    "\n",
    "# ディレクトリとファイルパス取得\n",
    "pdf_dir = \"/home/kouyou/ContinualLearning/survey/Analysis/output/task0\"\n",
    "save_dir = \"/home/kouyou/ContinualLearning/survey/Analysis/output/\"\n",
    "pdf_files = sorted([f for f in os.listdir(pdf_dir) if f.endswith(\".pdf\")], key=lambda x: int(x.split('.')[0]))\n",
    "\n",
    "# PDF → 画像変換\n",
    "images = []\n",
    "for pdf_file in pdf_files:\n",
    "    pdf_path = os.path.join(pdf_dir, pdf_file)\n",
    "    pages = convert_from_path(pdf_path, dpi=150)\n",
    "    images.append(pages[0])  # 1ページ目だけ\n",
    "\n",
    "# GIFとして保存\n",
    "gif_path = os.path.join(save_dir, \"task0_umap_animation.gif\")\n",
    "images[0].save(\n",
    "    gif_path,\n",
    "    save_all=True,\n",
    "    append_images=images[1:],\n",
    "    duration=250,  # 各フレームの表示時間（ミリ秒）\n",
    "    loop=0         # 無限ループ\n",
    ")\n",
    "\n",
    "print(f\"GIF saved to: {gif_path}\")"
   ]
  },
  {
   "cell_type": "code",
   "execution_count": null,
   "id": "cb327dcc",
   "metadata": {},
   "outputs": [],
   "source": [
    "import os\n",
    "from pdf2image import convert_from_path\n",
    "from PIL import Image\n",
    "\n",
    "# ディレクトリとファイルパス取得\n",
    "pdf_dir = \"/home/kouyou/ContinualLearning/survey/Analysis/output/task1\"\n",
    "save_dir = \"/home/kouyou/ContinualLearning/survey/Analysis/output/\"\n",
    "pdf_files = sorted([f for f in os.listdir(pdf_dir) if f.endswith(\".pdf\")], key=lambda x: int(x.split('.')[0]))\n",
    "\n",
    "# PDF → 画像変換\n",
    "images = []\n",
    "for pdf_file in pdf_files:\n",
    "    pdf_path = os.path.join(pdf_dir, pdf_file)\n",
    "    pages = convert_from_path(pdf_path, dpi=150)\n",
    "    images.append(pages[0])  # 1ページ目だけ\n",
    "\n",
    "# GIFとして保存\n",
    "gif_path = os.path.join(save_dir, \"task0_umap_animation.gif\")\n",
    "images[0].save(\n",
    "    gif_path,\n",
    "    save_all=True,\n",
    "    append_images=images[1:],\n",
    "    duration=250,  # 各フレームの表示時間（ミリ秒）\n",
    "    loop=0         # 無限ループ\n",
    ")\n",
    "\n",
    "print(f\"GIF saved to: {gif_path}\")"
   ]
  },
  {
   "cell_type": "code",
   "execution_count": 2,
   "id": "fcc4fa30",
   "metadata": {},
   "outputs": [
    {
     "name": "stdout",
     "output_type": "stream",
     "text": [
      "GIF saved to: /home/kouyou/ContinualLearning/survey/Analysis/output2/task0_umap_animation.gif\n"
     ]
    }
   ],
   "source": [
    "import os\n",
    "from pdf2image import convert_from_path\n",
    "from PIL import Image\n",
    "\n",
    "# ディレクトリとファイルパス取得\n",
    "pdf_dir = \"/home/kouyou/ContinualLearning/survey/Analysis/output2/task0\"\n",
    "save_dir = \"/home/kouyou/ContinualLearning/survey/Analysis/output2/\"\n",
    "pdf_files = sorted([f for f in os.listdir(pdf_dir) if f.endswith(\".pdf\")], key=lambda x: int(x.split('.')[0]))\n",
    "\n",
    "# PDF → 画像変換\n",
    "images = []\n",
    "for pdf_file in pdf_files:\n",
    "    pdf_path = os.path.join(pdf_dir, pdf_file)\n",
    "    pages = convert_from_path(pdf_path, dpi=150)\n",
    "    images.append(pages[0])  # 1ページ目だけ\n",
    "\n",
    "# GIFとして保存\n",
    "gif_path = os.path.join(save_dir, \"task0_umap_animation.gif\")\n",
    "images[0].save(\n",
    "    gif_path,\n",
    "    save_all=True,\n",
    "    append_images=images[1:],\n",
    "    duration=250,  # 各フレームの表示時間（ミリ秒）\n",
    "    loop=0         # 無限ループ\n",
    ")\n",
    "\n",
    "print(f\"GIF saved to: {gif_path}\")"
   ]
  },
  {
   "cell_type": "code",
   "execution_count": 5,
   "id": "61cfacb1",
   "metadata": {},
   "outputs": [
    {
     "ename": "IndexError",
     "evalue": "list index out of range",
     "output_type": "error",
     "traceback": [
      "\u001b[0;31m---------------------------------------------------------------------------\u001b[0m",
      "\u001b[0;31mIndexError\u001b[0m                                Traceback (most recent call last)",
      "Cell \u001b[0;32mIn[5], line 19\u001b[0m\n\u001b[1;32m     17\u001b[0m \u001b[38;5;66;03m# GIFとして保存\u001b[39;00m\n\u001b[1;32m     18\u001b[0m gif_path \u001b[38;5;241m=\u001b[39m os\u001b[38;5;241m.\u001b[39mpath\u001b[38;5;241m.\u001b[39mjoin(save_dir, \u001b[38;5;124m\"\u001b[39m\u001b[38;5;124mtask3_umap_animation.gif\u001b[39m\u001b[38;5;124m\"\u001b[39m)\n\u001b[0;32m---> 19\u001b[0m \u001b[43mimages\u001b[49m\u001b[43m[\u001b[49m\u001b[38;5;241;43m0\u001b[39;49m\u001b[43m]\u001b[49m\u001b[38;5;241m.\u001b[39msave(\n\u001b[1;32m     20\u001b[0m     gif_path,\n\u001b[1;32m     21\u001b[0m     save_all\u001b[38;5;241m=\u001b[39m\u001b[38;5;28;01mTrue\u001b[39;00m,\n\u001b[1;32m     22\u001b[0m     append_images\u001b[38;5;241m=\u001b[39mimages[\u001b[38;5;241m1\u001b[39m:],\n\u001b[1;32m     23\u001b[0m     duration\u001b[38;5;241m=\u001b[39m\u001b[38;5;241m250\u001b[39m,  \u001b[38;5;66;03m# 各フレームの表示時間（ミリ秒）\u001b[39;00m\n\u001b[1;32m     24\u001b[0m     loop\u001b[38;5;241m=\u001b[39m\u001b[38;5;241m0\u001b[39m         \u001b[38;5;66;03m# 無限ループ\u001b[39;00m\n\u001b[1;32m     25\u001b[0m )\n\u001b[1;32m     27\u001b[0m \u001b[38;5;28mprint\u001b[39m(\u001b[38;5;124mf\u001b[39m\u001b[38;5;124m\"\u001b[39m\u001b[38;5;124mGIF saved to: \u001b[39m\u001b[38;5;132;01m{\u001b[39;00mgif_path\u001b[38;5;132;01m}\u001b[39;00m\u001b[38;5;124m\"\u001b[39m)\n",
      "\u001b[0;31mIndexError\u001b[0m: list index out of range"
     ]
    }
   ],
   "source": [
    "import os\n",
    "from pdf2image import convert_from_path\n",
    "from PIL import Image\n",
    "\n",
    "# ディレクトリとファイルパス取得\n",
    "pdf_dir = \"/home/kouyou/ContinualLearning/survey/Analysis/output2/task3\"\n",
    "save_dir = \"/home/kouyou/ContinualLearning/survey/Analysis/output2/\"\n",
    "pdf_files = sorted([f for f in os.listdir(pdf_dir) if f.endswith(\".pdf\")], key=lambda x: int(x.split('.')[0]))\n",
    "\n",
    "# PDF → 画像変換\n",
    "images = []\n",
    "for pdf_file in pdf_files:\n",
    "    pdf_path = os.path.join(pdf_dir, pdf_file)\n",
    "    pages = convert_from_path(pdf_path, dpi=150)\n",
    "    images.append(pages[0])  # 1ページ目だけ\n",
    "\n",
    "# GIFとして保存\n",
    "gif_path = os.path.join(save_dir, \"task3_umap_animation.gif\")\n",
    "images[0].save(\n",
    "    gif_path,\n",
    "    save_all=True,\n",
    "    append_images=images[1:],\n",
    "    duration=250,  # 各フレームの表示時間（ミリ秒）\n",
    "    loop=0         # 無限ループ\n",
    ")\n",
    "\n",
    "print(f\"GIF saved to: {gif_path}\")"
   ]
  },
  {
   "cell_type": "code",
   "execution_count": null,
   "id": "f11c72b0",
   "metadata": {},
   "outputs": [],
   "source": []
  }
 ],
 "metadata": {
  "kernelspec": {
   "display_name": "base",
   "language": "python",
   "name": "python3"
  },
  "language_info": {
   "codemirror_mode": {
    "name": "ipython",
    "version": 3
   },
   "file_extension": ".py",
   "mimetype": "text/x-python",
   "name": "python",
   "nbconvert_exporter": "python",
   "pygments_lexer": "ipython3",
   "version": "3.8.5"
  }
 },
 "nbformat": 4,
 "nbformat_minor": 5
}
