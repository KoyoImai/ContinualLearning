{
 "cells": [
  {
   "cell_type": "markdown",
   "id": "4b1f0975",
   "metadata": {},
   "source": [
    "# 全データの有効特異値"
   ]
  },
  {
   "cell_type": "code",
   "execution_count": null,
   "id": "4a8dd4aa",
   "metadata": {},
   "outputs": [],
   "source": [
    "method_figure_files = {\n",
    "    'ER': [\n",
    "        \"/home/kouyou/ContinualLearning/survey/CIL/logs/er/fintune_er_reservoir0_cifar10_seed0_date2025_04_19/exp_log/experiment.log\",\n",
    "        \"/home/kouyou/ContinualLearning/survey/CIL/logs/er/fintune_er_reservoir0_cifar10_seed1_date2025_04_19/exp_log/experiment.log\",\n",
    "        \"/home/kouyou/ContinualLearning/survey/CIL/logs/er/fintune_er_reservoir0_cifar10_seed2_date2025_04_19/exp_log/experiment.log\",\n",
    "        \"/home/kouyou/ContinualLearning/survey/CIL/logs/er/fintune_er_reservoir0_cifar10_seed3_date2025_04_19/exp_log/experiment.log\",\n",
    "        \"/home/kouyou/ContinualLearning/survey/CIL/logs/er/fintune_er_reservoir0_cifar10_seed4_date2025_04_19/exp_log/experiment.log\",\n",
    "    ],\n",
    "}"
   ]
  },
  {
   "cell_type": "markdown",
   "id": "2d0443a4",
   "metadata": {},
   "source": []
  }
 ],
 "metadata": {
  "kernelspec": {
   "display_name": "base",
   "language": "python",
   "name": "python3"
  },
  "language_info": {
   "name": "python",
   "version": "3.8.5"
  }
 },
 "nbformat": 4,
 "nbformat_minor": 5
}
